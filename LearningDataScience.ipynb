{
  "nbformat": 4,
  "nbformat_minor": 0,
  "metadata": {
    "colab": {
      "provenance": [],
      "authorship_tag": "ABX9TyPnRM8NFpj1WAPTFw7UzQu1",
      "include_colab_link": true
    },
    "kernelspec": {
      "name": "python3",
      "display_name": "Python 3"
    },
    "language_info": {
      "name": "python"
    }
  },
  "cells": [
    {
      "cell_type": "markdown",
      "metadata": {
        "id": "view-in-github",
        "colab_type": "text"
      },
      "source": [
        "<a href=\"https://colab.research.google.com/github/raunakk07/Immersion-Batch-Preparation/blob/main/LearningDataScience.ipynb\" target=\"_parent\"><img src=\"https://colab.research.google.com/assets/colab-badge.svg\" alt=\"Open In Colab\"/></a>"
      ]
    },
    {
      "cell_type": "markdown",
      "source": [
        "## **Random**"
      ],
      "metadata": {
        "id": "hB4fDV4lJotz"
      }
    },
    {
      "cell_type": "code",
      "execution_count": 15,
      "metadata": {
        "colab": {
          "base_uri": "https://localhost:8080/"
        },
        "id": "3lwIjLfoFVX7",
        "outputId": "e728b47c-d468-4c51-c571-6da543963253"
      },
      "outputs": [
        {
          "output_type": "stream",
          "name": "stdout",
          "text": [
            "[20, 53, 58, 40, 47, 42]\n"
          ]
        }
      ],
      "source": [
        "import random\n",
        "\n",
        "# random10 = [x for x in range(0,10)]\n",
        "# random.shuffle(random10)\n",
        "# print(random10)\n",
        "# random.choice(random10)\n",
        "\n",
        "numbers = range(60)\n",
        "newNumbers = random.sample(numbers,6)\n",
        "print( newNumbers)"
      ]
    },
    {
      "cell_type": "markdown",
      "source": [
        "# **Regular Expression**"
      ],
      "metadata": {
        "id": "1JVdS5hsH2cN"
      }
    },
    {
      "cell_type": "code",
      "source": [
        "import re\n",
        "#help(re.match)\n",
        "\n",
        "'''it helps to match string and a pattern from the beginning'''\n",
        "statement1 = re.match('a' , \"aat\")\n",
        "print(statement1)\n",
        "\n",
        "'''it helps to search a pattern in any string even if it is present in mid'''\n",
        "\n",
        "statement2 = re.search(\"bat\" , \"batman\")\n",
        "print(statement2)\n",
        "\n",
        "#help(re.split)\n",
        "\n",
        "statement3 = re.split(\"[ab]\" , \"carbs\")\n",
        "print(statement3)"
      ],
      "metadata": {
        "colab": {
          "base_uri": "https://localhost:8080/"
        },
        "id": "-L2OdACvIAu3",
        "outputId": "c2d091da-1dc9-43b4-ad61-8a05f7145729"
      },
      "execution_count": 24,
      "outputs": [
        {
          "output_type": "stream",
          "name": "stdout",
          "text": [
            "<re.Match object; span=(0, 1), match='a'>\n",
            "<re.Match object; span=(0, 3), match='bat'>\n",
            "['c', 'r', 's']\n"
          ]
        }
      ]
    },
    {
      "cell_type": "markdown",
      "source": [
        "Partial Function\n"
      ],
      "metadata": {
        "id": "iRg5R276lgNt"
      }
    },
    {
      "cell_type": "code",
      "source": [
        "from functools import partial\n",
        "\n",
        "def exp(base,power):\n",
        "  return base**power\n",
        "\n",
        "# def two_to_the(power):\n",
        "#   return exp(2,power)\n",
        "\n",
        "two_to_the = partial(exp,2)\n",
        "\n",
        "print( two_to_the(3))\n",
        "\n",
        "def double(x):\n",
        "  return 2*x\n",
        "\n",
        "xs = [1,2,3,4]\n",
        "twice_xs = map(double,xs)\n",
        "print(list(twice_xs))\n",
        "\n",
        "def mult(x,y):\n",
        "  return x*y\n",
        "\n",
        "newlist = map(mult,[1],[2])\n",
        "print(list(newlist))\n"
      ],
      "metadata": {
        "colab": {
          "base_uri": "https://localhost:8080/"
        },
        "id": "chLczwVyljV4",
        "outputId": "9529c240-d149-42ed-cc33-cd06b70b2fdb"
      },
      "execution_count": 33,
      "outputs": [
        {
          "output_type": "stream",
          "name": "stdout",
          "text": [
            "8\n",
            "[2, 4, 6, 8]\n",
            "[2]\n"
          ]
        }
      ]
    },
    {
      "cell_type": "markdown",
      "source": [
        "## Enumerate in Python"
      ],
      "metadata": {
        "id": "pTVNrFg_sOyX"
      }
    },
    {
      "cell_type": "code",
      "source": [
        "''' Sometimes we need both indeces and its elements, for this we use \"enumarate\"\n",
        "which produces a tuple of (index,element)'''\n",
        "def do_something(index,value):\n",
        "  return\n",
        "\n",
        "documents = [\"Ram\" , \"Shyam\" , \"Sita\" , \"Gita\"]\n",
        "for i , document in  enumerate(documents):\n",
        "  do_something(i,document)"
      ],
      "metadata": {
        "id": "7AQhJ2bosTTZ"
      },
      "execution_count": null,
      "outputs": []
    }
  ]
}