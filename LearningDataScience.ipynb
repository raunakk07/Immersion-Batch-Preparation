{
  "nbformat": 4,
  "nbformat_minor": 0,
  "metadata": {
    "colab": {
      "provenance": [],
      "authorship_tag": "ABX9TyO/cVbnjcEViK5rT2qZY73z",
      "include_colab_link": true
    },
    "kernelspec": {
      "name": "python3",
      "display_name": "Python 3"
    },
    "language_info": {
      "name": "python"
    }
  },
  "cells": [
    {
      "cell_type": "markdown",
      "metadata": {
        "id": "view-in-github",
        "colab_type": "text"
      },
      "source": [
        "<a href=\"https://colab.research.google.com/github/raunakk07/Immersion-Batch-Preparation/blob/main/LearningDataScience.ipynb\" target=\"_parent\"><img src=\"https://colab.research.google.com/assets/colab-badge.svg\" alt=\"Open In Colab\"/></a>"
      ]
    },
    {
      "cell_type": "markdown",
      "source": [
        "## **Random**"
      ],
      "metadata": {
        "id": "hB4fDV4lJotz"
      }
    },
    {
      "cell_type": "code",
      "execution_count": null,
      "metadata": {
        "colab": {
          "base_uri": "https://localhost:8080/"
        },
        "id": "3lwIjLfoFVX7",
        "outputId": "e728b47c-d468-4c51-c571-6da543963253"
      },
      "outputs": [
        {
          "output_type": "stream",
          "name": "stdout",
          "text": [
            "[20, 53, 58, 40, 47, 42]\n"
          ]
        }
      ],
      "source": [
        "import random\n",
        "\n",
        "# random10 = [x for x in range(0,10)]\n",
        "# random.shuffle(random10)\n",
        "# print(random10)\n",
        "# random.choice(random10)\n",
        "\n",
        "numbers = range(60)\n",
        "newNumbers = random.sample(numbers,6)\n",
        "print( newNumbers)"
      ]
    },
    {
      "cell_type": "markdown",
      "source": [
        "# **Regular Expression**"
      ],
      "metadata": {
        "id": "1JVdS5hsH2cN"
      }
    },
    {
      "cell_type": "code",
      "source": [
        "import re\n",
        "#help(re.match)\n",
        "\n",
        "'''it helps to match string and a pattern from the beginning'''\n",
        "statement1 = re.match('a' , \"aat\")\n",
        "print(statement1)\n",
        "\n",
        "'''it helps to search a pattern in any string even if it is present in mid'''\n",
        "\n",
        "statement2 = re.search(\"bat\" , \"batman\")\n",
        "print(statement2)\n",
        "\n",
        "#help(re.split)\n",
        "\n",
        "statement3 = re.split(\"[ab]\" , \"carbs\")\n",
        "print(statement3)"
      ],
      "metadata": {
        "colab": {
          "base_uri": "https://localhost:8080/"
        },
        "id": "-L2OdACvIAu3",
        "outputId": "c2d091da-1dc9-43b4-ad61-8a05f7145729"
      },
      "execution_count": null,
      "outputs": [
        {
          "output_type": "stream",
          "name": "stdout",
          "text": [
            "<re.Match object; span=(0, 1), match='a'>\n",
            "<re.Match object; span=(0, 3), match='bat'>\n",
            "['c', 'r', 's']\n"
          ]
        }
      ]
    },
    {
      "cell_type": "markdown",
      "source": [
        "# Partial Function\n"
      ],
      "metadata": {
        "id": "iRg5R276lgNt"
      }
    },
    {
      "cell_type": "code",
      "source": [
        "from functools import partial\n",
        "\n",
        "def exp(base,power):\n",
        "  return base**power\n",
        "\n",
        "# def two_to_the(power):\n",
        "#   return exp(2,power)\n",
        "\n",
        "two_to_the = partial(exp,2)\n",
        "\n",
        "print( two_to_the(3))\n",
        "\n",
        "def double(x):\n",
        "  return 2*x\n",
        "\n",
        "xs = [1,2,3,4]\n",
        "twice_xs = map(double,xs)\n",
        "print(list(twice_xs))\n",
        "\n",
        "def mult(x,y):\n",
        "  return x*y\n",
        "\n",
        "newlist = map(mult,[1],[2])\n",
        "print(list(newlist))\n"
      ],
      "metadata": {
        "colab": {
          "base_uri": "https://localhost:8080/"
        },
        "id": "chLczwVyljV4",
        "outputId": "9529c240-d149-42ed-cc33-cd06b70b2fdb"
      },
      "execution_count": null,
      "outputs": [
        {
          "output_type": "stream",
          "name": "stdout",
          "text": [
            "8\n",
            "[2, 4, 6, 8]\n",
            "[2]\n"
          ]
        }
      ]
    },
    {
      "cell_type": "markdown",
      "source": [
        "## Enumerate in Python"
      ],
      "metadata": {
        "id": "pTVNrFg_sOyX"
      }
    },
    {
      "cell_type": "code",
      "source": [
        "''' Sometimes we need both indeces and its elements, for this we use \"enumarate\"\n",
        "which produces a tuple of (index,element)'''\n",
        "def do_something(index,value):\n",
        "  return\n",
        "\n",
        "documents = [\"Ram\" , \"Shyam\" , \"Sita\" , \"Gita\"]\n",
        "for i , document in  enumerate(documents):\n",
        "  do_something(i,document)"
      ],
      "metadata": {
        "id": "7AQhJ2bosTTZ"
      },
      "execution_count": null,
      "outputs": []
    },
    {
      "cell_type": "markdown",
      "source": [
        "# Zip in Python"
      ],
      "metadata": {
        "id": "noL0mOgqN6eg"
      }
    },
    {
      "cell_type": "code",
      "source": [
        "'''\n",
        "Often we will need to zip two or more lists together. zip transforms multiple lists\n",
        "into a single list of tuples of corresponding elements.\n",
        "If the lists are different lengths, zip stops as soon as the first list ends.\n",
        "'''\n",
        "\n",
        "list1 = [\"apple\", \"banana\",\"carrot\"]\n",
        "list2 = [1,2,3]\n",
        "print(tuple(zip(list1,list2)))\n",
        "'''\n",
        "We can also unzip using \"*\".\n",
        "The asterisk performs argument unpacking, which uses the elements of pairs as indi‐\n",
        "vidual arguments to zip. It ends up the same as if you’d called:\n",
        "zip(('a', 1), ('b', 2), ('c', 3))\n",
        "which returns [('a','b','c'), ('1','2','3')].\n",
        "You can use argument unpacking with any function\n",
        "'''\n",
        "pairs = [('a', 1), ('b', 2), ('c', 3)]\n",
        "letters, numbers = zip(*pairs)\n",
        "def add(a, b): return a + b\n",
        "add(1, 2) # returns 3\n",
        "add([1, 2]) # TypeError!\n",
        "add(*[1, 2]) # returns 3\n"
      ],
      "metadata": {
        "colab": {
          "base_uri": "https://localhost:8080/"
        },
        "id": "u1wgwRo2N9Lr",
        "outputId": "37fe37c1-9e3a-4b8d-f8a9-2fdaaeaa485c"
      },
      "execution_count": null,
      "outputs": [
        {
          "output_type": "stream",
          "name": "stdout",
          "text": [
            "(('apple', 1), ('banana', 2), ('carrot', 3))\n"
          ]
        }
      ]
    },
    {
      "cell_type": "markdown",
      "source": [
        "# Visualization of Data"
      ],
      "metadata": {
        "id": "a4XQJgbyPIil"
      }
    },
    {
      "cell_type": "code",
      "source": [
        "from matplotlib import pyplot as plt\n",
        "\n",
        "year = [2000,2005,2010,2015,2020]\n",
        "value = [200,355,632,798,876]\n",
        "\n",
        "plt.plot(year,value,color = 'red', marker = 'o')\n",
        "\n",
        "plt.title(\"Random Plot\")\n",
        "\n",
        "plt.show()\n",
        "\n",
        "\n"
      ],
      "metadata": {
        "colab": {
          "base_uri": "https://localhost:8080/",
          "height": 452
        },
        "id": "6ukXykbePNUI",
        "outputId": "a90c0020-4ed8-4eea-98a0-fa1a8820a06c"
      },
      "execution_count": 18,
      "outputs": [
        {
          "output_type": "display_data",
          "data": {
            "text/plain": [
              "<Figure size 640x480 with 1 Axes>"
            ],
            "image/png": "[encoded data removed]"
          },
          "metadata": {}
        }
      ]
    },
    {
      "cell_type": "code",
      "source": [
        "#Bar Chart\n",
        "\n",
        "movies = [\"Annie Hall\", \"Ben-Hur\", \"Casablanca\", \"Gandhi\", \"West Side Story\"]\n",
        "num_oscars = [5, 11, 3, 8, 10]\n",
        "# bars are by default width 0.8, so we'll add 0.1 to the left coordinates\n",
        "# so that each bar is centered\n",
        "xs = [i+0.1 for i, _ in enumerate(movies)]\n",
        "print(xs)\n",
        "# plot bars with left x-coordinates [xs], heights [num_oscars]\n",
        "plt.bar(xs, num_oscars)\n",
        "plt.ylabel(\"# of Academy Awards\")\n",
        "plt.title(\"My Favorite Movies\")\n",
        "# label x-axis with movie names at bar centers\n",
        "plt.xticks([i  for i, _ in enumerate(movies)], movies)\n",
        "plt.show()"
      ],
      "metadata": {
        "colab": {
          "base_uri": "https://localhost:8080/",
          "height": 469
        },
        "id": "ylMD8tchRIvk",
        "outputId": "640be3f8-dda4-4827-cd26-ddcbcf4169c7"
      },
      "execution_count": 19,
      "outputs": [
        {
          "output_type": "stream",
          "name": "stdout",
          "text": [
            "[0.1, 1.1, 2.1, 3.1, 4.1]\n"
          ]
        },
        {
          "output_type": "display_data",
          "data": {
            "text/plain": [
              "<Figure size 640x480 with 1 Axes>"
            ],
            "image/png": "[encoded data removed]"
          },
          "metadata": {}
        }
      ]
    }
  ]
}