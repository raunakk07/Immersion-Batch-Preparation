{
  "nbformat": 4,
  "nbformat_minor": 0,
  "metadata": {
    "colab": {
      "provenance": [],
      "authorship_tag": "ABX9TyPfOXG94iz77mU16Ies4Z40",
      "include_colab_link": true
    },
    "kernelspec": {
      "name": "python3",
      "display_name": "Python 3"
    },
    "language_info": {
      "name": "python"
    }
  },
  "cells": [
    {
      "cell_type": "markdown",
      "metadata": {
        "id": "view-in-github",
        "colab_type": "text"
      },
      "source": [
        "<a href=\"https://colab.research.google.com/github/raunakk07/Immersion-Batch-Preparation/blob/main/pythonBasics.ipynb\" target=\"_parent\"><img src=\"https://colab.research.google.com/assets/colab-badge.svg\" alt=\"Open In Colab\"/></a>"
      ]
    },
    {
      "cell_type": "markdown",
      "source": [
        "#Stings\n"
      ],
      "metadata": {
        "id": "5z7nf6a5yA6m"
      }
    },
    {
      "cell_type": "code",
      "source": [
        "message = \"Hello World\"\n",
        "\n",
        "print(message.lower())\n",
        "print(message.upper())\n",
        "print(message.count('l'))\n",
        "print(message.find(\"World\"))\n",
        "\n",
        "new_m = message.replace(\"World\" , \"Beech\")\n",
        "print(new_m)"
      ],
      "metadata": {
        "colab": {
          "base_uri": "https://localhost:8080/"
        },
        "id": "9FaVz4DgyD6s",
        "outputId": "e25f3023-02bf-42e2-a5ff-0173c08033ba"
      },
      "execution_count": 10,
      "outputs": [
        {
          "output_type": "stream",
          "name": "stdout",
          "text": [
            "hello world\n",
            "HELLO WORLD\n",
            "3\n",
            "6\n",
            "Hello Beech\n"
          ]
        }
      ]
    },
    {
      "cell_type": "markdown",
      "source": [
        "#Boolean Variable\n"
      ],
      "metadata": {
        "id": "nL4ZDEtjNdPz"
      }
    },
    {
      "cell_type": "code",
      "execution_count": null,
      "metadata": {
        "colab": {
          "base_uri": "https://localhost:8080/"
        },
        "id": "9yrZnJK2M2jJ",
        "outputId": "ed65b359-be63-4045-ff1a-693c76220a4e"
      },
      "outputs": [
        {
          "output_type": "execute_result",
          "data": {
            "text/plain": [
              "bool"
            ]
          },
          "metadata": {},
          "execution_count": 2
        }
      ],
      "source": [
        "type(True)\n",
        "type(False)"
      ]
    },
    {
      "cell_type": "markdown",
      "source": [
        "Boolean Functions\n"
      ],
      "metadata": {
        "id": "FKIeXpL3Oiz2"
      }
    },
    {
      "cell_type": "code",
      "source": [
        "my_str = \"Harshit Srivastava\"\n",
        "\n",
        "print(my_str.isalnum())\n",
        "print(my_str.isalpha())\n",
        "print(my_str.isupper())\n",
        "print(my_str.istitle())\n",
        "\n",
        "#and so on\n",
        "print(my_str.startswith('H'))\n",
        "print(my_str.endswith('A'))"
      ],
      "metadata": {
        "colab": {
          "base_uri": "https://localhost:8080/"
        },
        "id": "ESk5WvufN0wF",
        "outputId": "5563e250-ae71-4684-e03d-45b6fed03021"
      },
      "execution_count": null,
      "outputs": [
        {
          "output_type": "stream",
          "name": "stdout",
          "text": [
            "False\n",
            "False\n",
            "False\n",
            "True\n",
            "True\n",
            "False\n"
          ]
        }
      ]
    },
    {
      "cell_type": "markdown",
      "source": [
        "#NUMPY\n",
        "Numpy is a genral-purpose array-processing package. It privides a high performance multidimensional array object, and tools for working with these arrays. It is fundamental package for scientific computing with Python"
      ],
      "metadata": {
        "id": "RJhdSj_D_r37"
      }
    },
    {
      "cell_type": "code",
      "source": [
        "import numpy as np\n",
        "\n",
        "my_lst = [1,2,3,4,5]\n",
        "arr = np.array(my_lst)\n",
        "type(arr)\n",
        "print(arr)"
      ],
      "metadata": {
        "colab": {
          "base_uri": "https://localhost:8080/"
        },
        "id": "KtYB8Y0MABsd",
        "outputId": "f9064852-6b9b-43b2-ef92-0534f74d5965"
      },
      "execution_count": null,
      "outputs": [
        {
          "output_type": "execute_result",
          "data": {
            "text/plain": [
              "numpy.ndarray"
            ]
          },
          "metadata": {},
          "execution_count": 3
        }
      ]
    },
    {
      "cell_type": "code",
      "source": [
        "arr.shape"
      ],
      "metadata": {
        "colab": {
          "base_uri": "https://localhost:8080/"
        },
        "id": "Lq7JOihQCZhI",
        "outputId": "f845dded-8ba1-43ea-b36a-8fa216ca5a13"
      },
      "execution_count": null,
      "outputs": [
        {
          "output_type": "execute_result",
          "data": {
            "text/plain": [
              "(5,)"
            ]
          },
          "metadata": {},
          "execution_count": 5
        }
      ]
    },
    {
      "cell_type": "code",
      "source": [
        "#multinested array\n",
        "list1 = [1,2,4,6,7]\n",
        "list2 = [3,2,4,5,1]\n",
        "list3 = [8,4,3,2,9]\n",
        "\n",
        "arr = np.array([list1,list2,list3])\n",
        "\n",
        "arr"
      ],
      "metadata": {
        "colab": {
          "base_uri": "https://localhost:8080/"
        },
        "id": "YDLCOIJiCkkt",
        "outputId": "af47fb4f-88fe-4353-c057-60fdcdf340d0"
      },
      "execution_count": null,
      "outputs": [
        {
          "output_type": "execute_result",
          "data": {
            "text/plain": [
              "array([[1, 2, 4, 6, 7],\n",
              "       [3, 2, 4, 5, 1],\n",
              "       [8, 4, 3, 2, 9]])"
            ]
          },
          "metadata": {},
          "execution_count": 6
        }
      ]
    },
    {
      "cell_type": "code",
      "source": [
        "arr.shape"
      ],
      "metadata": {
        "colab": {
          "base_uri": "https://localhost:8080/"
        },
        "id": "sv_1V-tTDRx9",
        "outputId": "162c36ca-edbb-4ea1-fc0a-68b5905fb224"
      },
      "execution_count": null,
      "outputs": [
        {
          "output_type": "execute_result",
          "data": {
            "text/plain": [
              "(3, 5)"
            ]
          },
          "metadata": {},
          "execution_count": 7
        }
      ]
    },
    {
      "cell_type": "markdown",
      "source": [],
      "metadata": {
        "id": "Gl1MSUP_DtNe"
      }
    },
    {
      "cell_type": "code",
      "source": [
        "arr = arr.reshape(5,3)\n",
        "print(arr)\n",
        "arr.shape"
      ],
      "metadata": {
        "colab": {
          "base_uri": "https://localhost:8080/"
        },
        "id": "p91Dg6vuDV-K",
        "outputId": "47cf6478-be1b-4272-cddf-ceb3d779903b"
      },
      "execution_count": null,
      "outputs": [
        {
          "output_type": "stream",
          "name": "stdout",
          "text": [
            "[[1 2 4]\n",
            " [6 7 3]\n",
            " [2 4 5]\n",
            " [1 8 4]\n",
            " [3 2 9]]\n"
          ]
        },
        {
          "output_type": "execute_result",
          "data": {
            "text/plain": [
              "(5, 3)"
            ]
          },
          "metadata": {},
          "execution_count": 11
        }
      ]
    }
  ]
}