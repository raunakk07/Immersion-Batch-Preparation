{
  "nbformat": 4,
  "nbformat_minor": 0,
  "metadata": {
    "colab": {
      "provenance": [],
      "authorship_tag": "ABX9TyOxRZ0NdbolYt27swGx0TgA",
      "include_colab_link": true
    },
    "kernelspec": {
      "name": "python3",
      "display_name": "Python 3"
    },
    "language_info": {
      "name": "python"
    }
  },
  "cells": [
    {
      "cell_type": "markdown",
      "metadata": {
        "id": "view-in-github",
        "colab_type": "text"
      },
      "source": [
        "<a href=\"https://colab.research.google.com/github/raunakk07/Immersion-Batch-Preparation/blob/main/pythonBasics.ipynb\" target=\"_parent\"><img src=\"https://colab.research.google.com/assets/colab-badge.svg\" alt=\"Open In Colab\"/></a>"
      ]
    },
    {
      "cell_type": "markdown",
      "source": [
        "#Boolean Variable\n"
      ],
      "metadata": {
        "id": "nL4ZDEtjNdPz"
      }
    },
    {
      "cell_type": "code",
      "execution_count": 2,
      "metadata": {
        "colab": {
          "base_uri": "https://localhost:8080/"
        },
        "id": "9yrZnJK2M2jJ",
        "outputId": "ed65b359-be63-4045-ff1a-693c76220a4e"
      },
      "outputs": [
        {
          "output_type": "execute_result",
          "data": {
            "text/plain": [
              "bool"
            ]
          },
          "metadata": {},
          "execution_count": 2
        }
      ],
      "source": [
        "type(True)\n",
        "type(False)"
      ]
    },
    {
      "cell_type": "code",
      "source": [
        "my_str = \"Harshit Srivastava\"\n",
        "\n",
        "print(my_str.isalnum())\n",
        "print(my_str.isalpha())\n",
        "print(my_str.isupper())\n",
        "print(my_str.istitle())\n",
        "#and so on\n"
      ],
      "metadata": {
        "colab": {
          "base_uri": "https://localhost:8080/"
        },
        "id": "ESk5WvufN0wF",
        "outputId": "08fdbb8c-84a8-422c-97f2-51655246bd39"
      },
      "execution_count": 4,
      "outputs": [
        {
          "output_type": "stream",
          "name": "stdout",
          "text": [
            "False\n",
            "False\n",
            "False\n",
            "True\n"
          ]
        }
      ]
    }
  ]
}