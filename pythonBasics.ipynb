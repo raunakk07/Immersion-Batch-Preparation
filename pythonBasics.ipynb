{
  "nbformat": 4,
  "nbformat_minor": 0,
  "metadata": {
    "colab": {
      "provenance": [],
      "authorship_tag": "ABX9TyONkwgAOJMXg6uIL7Ku8yCT",
      "include_colab_link": true
    },
    "kernelspec": {
      "name": "python3",
      "display_name": "Python 3"
    },
    "language_info": {
      "name": "python"
    }
  },
  "cells": [
    {
      "cell_type": "markdown",
      "metadata": {
        "id": "view-in-github",
        "colab_type": "text"
      },
      "source": [
        "<a href=\"https://colab.research.google.com/github/raunakk07/Immersion-Batch-Preparation/blob/main/pythonBasics.ipynb\" target=\"_parent\"><img src=\"https://colab.research.google.com/assets/colab-badge.svg\" alt=\"Open In Colab\"/></a>"
      ]
    },
    {
      "cell_type": "markdown",
      "source": [
        "#Strings\n"
      ],
      "metadata": {
        "id": "5z7nf6a5yA6m"
      }
    },
    {
      "cell_type": "code",
      "source": [
        "message = \"Hello World\"\n",
        "\n",
        "print(message.lower())\n",
        "print(message.upper())\n",
        "print(message.count('l'))\n",
        "print(message.find(\"World\"))\n",
        "\n",
        "new_m = message.replace(\"World\" , \"Beech\")\n",
        "print(new_m)\n",
        "\n",
        "greet = \"Hello\"\n",
        "name = \"Michel\"\n",
        "#message = greet +\" \"+ name + \". Welcome!\"\n",
        "\n",
        "#message = \"{}, {}. Welcome!\".format(greet, name)\n",
        "\n",
        "# conecpt of f strings\n",
        "message = f\"{greet}, {name.upper()}. Welcome!\"\n",
        "print(message)"
      ],
      "metadata": {
        "colab": {
          "base_uri": "https://localhost:8080/"
        },
        "id": "9FaVz4DgyD6s",
        "outputId": "245587e8-7fff-47dd-a974-7cb60ab7895e"
      },
      "execution_count": null,
      "outputs": [
        {
          "output_type": "stream",
          "name": "stdout",
          "text": [
            "hello world\n",
            "HELLO WORLD\n",
            "3\n",
            "6\n",
            "Hello Beech\n",
            "Hello, MICHEL. Welcome!\n"
          ]
        }
      ]
    },
    {
      "cell_type": "code",
      "source": [
        "greet = 'Hello'\n",
        "name = 'Michael'\n",
        "\n",
        "print(dir(name))\n",
        "print(help(str.endswith))"
      ],
      "metadata": {
        "colab": {
          "base_uri": "https://localhost:8080/"
        },
        "id": "STbZcHli0tj_",
        "outputId": "b6e49504-6874-4ae6-9b3e-119cb3d5842c"
      },
      "execution_count": null,
      "outputs": [
        {
          "output_type": "stream",
          "name": "stdout",
          "text": [
            "['__add__', '__class__', '__contains__', '__delattr__', '__dir__', '__doc__', '__eq__', '__format__', '__ge__', '__getattribute__', '__getitem__', '__getnewargs__', '__gt__', '__hash__', '__init__', '__init_subclass__', '__iter__', '__le__', '__len__', '__lt__', '__mod__', '__mul__', '__ne__', '__new__', '__reduce__', '__reduce_ex__', '__repr__', '__rmod__', '__rmul__', '__setattr__', '__sizeof__', '__str__', '__subclasshook__', 'capitalize', 'casefold', 'center', 'count', 'encode', 'endswith', 'expandtabs', 'find', 'format', 'format_map', 'index', 'isalnum', 'isalpha', 'isascii', 'isdecimal', 'isdigit', 'isidentifier', 'islower', 'isnumeric', 'isprintable', 'isspace', 'istitle', 'isupper', 'join', 'ljust', 'lower', 'lstrip', 'maketrans', 'partition', 'removeprefix', 'removesuffix', 'replace', 'rfind', 'rindex', 'rjust', 'rpartition', 'rsplit', 'rstrip', 'split', 'splitlines', 'startswith', 'strip', 'swapcase', 'title', 'translate', 'upper', 'zfill']\n",
            "Help on method_descriptor:\n",
            "\n",
            "endswith(...)\n",
            "    S.endswith(suffix[, start[, end]]) -> bool\n",
            "    \n",
            "    Return True if S ends with the specified suffix, False otherwise.\n",
            "    With optional start, test S beginning at that position.\n",
            "    With optional end, stop comparing S at that position.\n",
            "    suffix can also be a tuple of strings to try.\n",
            "\n",
            "None\n"
          ]
        }
      ]
    },
    {
      "cell_type": "markdown",
      "source": [
        "#Boolean Variable\n"
      ],
      "metadata": {
        "id": "nL4ZDEtjNdPz"
      }
    },
    {
      "cell_type": "code",
      "execution_count": null,
      "metadata": {
        "colab": {
          "base_uri": "https://localhost:8080/"
        },
        "id": "9yrZnJK2M2jJ",
        "outputId": "ed65b359-be63-4045-ff1a-693c76220a4e"
      },
      "outputs": [
        {
          "output_type": "execute_result",
          "data": {
            "text/plain": [
              "bool"
            ]
          },
          "metadata": {},
          "execution_count": 2
        }
      ],
      "source": [
        "type(True)\n",
        "type(False)"
      ]
    },
    {
      "cell_type": "markdown",
      "source": [
        "Boolean Functions\n"
      ],
      "metadata": {
        "id": "FKIeXpL3Oiz2"
      }
    },
    {
      "cell_type": "code",
      "source": [
        "my_str = \"Harshit Srivastava\"\n",
        "\n",
        "print(my_str.isalnum())\n",
        "print(my_str.isalpha())\n",
        "print(my_str.isupper())\n",
        "print(my_str.istitle())\n",
        "\n",
        "#and so on\n",
        "print(my_str.startswith('H'))\n",
        "print(my_str.endswith('A'))"
      ],
      "metadata": {
        "colab": {
          "base_uri": "https://localhost:8080/"
        },
        "id": "ESk5WvufN0wF",
        "outputId": "5563e250-ae71-4684-e03d-45b6fed03021"
      },
      "execution_count": null,
      "outputs": [
        {
          "output_type": "stream",
          "name": "stdout",
          "text": [
            "False\n",
            "False\n",
            "False\n",
            "True\n",
            "True\n",
            "False\n"
          ]
        }
      ]
    },
    {
      "cell_type": "markdown",
      "source": [
        "# Working with numerical data\n"
      ],
      "metadata": {
        "id": "1sV7z1Tk11s5"
      }
    },
    {
      "cell_type": "code",
      "source": [
        "num = 3\n",
        "print(type(num))\n",
        "num2 = 3.4\n",
        "print(type(num2))\n",
        "\n",
        "# Arithmetic Operators:\n",
        "# Addition :    3+2\n",
        "# Subtractipon: 3-2\n",
        "# Multiply:     3*2\n",
        "# Division:     3/2\n",
        "# Floor Division: 3//2\n",
        "# Exponent:     3**2\n",
        "#modulus:       3%2\n",
        "\n",
        "\n"
      ],
      "metadata": {
        "colab": {
          "base_uri": "https://localhost:8080/"
        },
        "id": "weMVx2wh18dU",
        "outputId": "873c14ed-af07-44e2-a4e2-53c4756d9585"
      },
      "execution_count": null,
      "outputs": [
        {
          "output_type": "stream",
          "name": "stdout",
          "text": [
            "<class 'int'>\n",
            "<class 'float'>\n"
          ]
        }
      ]
    },
    {
      "cell_type": "markdown",
      "source": [
        "#Functions"
      ],
      "metadata": {
        "id": "Viuqp85Z8jAo"
      }
    },
    {
      "cell_type": "markdown",
      "source": [
        "Instead of putting code Everywhere for same work we put specific tasks in a function so we can just call it everywhere else and if we need to change, we can just go to that function instead of searching for it in every code."
      ],
      "metadata": {
        "id": "gSHOhfln9XxV"
      }
    },
    {
      "cell_type": "code",
      "source": [
        "def hello_func():\n",
        "  pass #to just pass function for now but it won't throw any error for leaving it blank\n",
        "\n",
        "print(hello_func())"
      ],
      "metadata": {
        "colab": {
          "base_uri": "https://localhost:8080/"
        },
        "id": "9bYfctRy8k-E",
        "outputId": "392a4187-ca9c-48f2-dfaf-f3e9117c1470"
      },
      "execution_count": null,
      "outputs": [
        {
          "output_type": "stream",
          "name": "stdout",
          "text": [
            "None\n"
          ]
        }
      ]
    },
    {
      "cell_type": "code",
      "source": [
        "def hello_func():\n",
        "  print(\"Hello function\")\n",
        "hello_func()"
      ],
      "metadata": {
        "colab": {
          "base_uri": "https://localhost:8080/"
        },
        "id": "DkYBoB_69Bkn",
        "outputId": "56a10725-1917-4159-9253-5713badb5c8d"
      },
      "execution_count": null,
      "outputs": [
        {
          "output_type": "stream",
          "name": "stdout",
          "text": [
            "Hello function\n"
          ]
        }
      ]
    },
    {
      "cell_type": "code",
      "source": [
        "def hello_func():\n",
        "  return \"Hello Function\"\n",
        "print(hello_func().upper())"
      ],
      "metadata": {
        "colab": {
          "base_uri": "https://localhost:8080/"
        },
        "id": "_zLZl0Sn9-h1",
        "outputId": "871a57e9-af65-4420-e6d3-0eb7598f176e"
      },
      "execution_count": null,
      "outputs": [
        {
          "output_type": "stream",
          "name": "stdout",
          "text": [
            "HELLO FUNCTION\n"
          ]
        }
      ]
    },
    {
      "cell_type": "code",
      "source": [
        "def hello_func(greeting):\n",
        "  return \"{} Function\".format(greeting)\n",
        "\n",
        "x = \"random\"\n",
        "print(hello_func(x))"
      ],
      "metadata": {
        "colab": {
          "base_uri": "https://localhost:8080/"
        },
        "id": "iKTDT1c7-vHX",
        "outputId": "aaffd875-e522-424b-c1cf-45c4f31e0028"
      },
      "execution_count": null,
      "outputs": [
        {
          "output_type": "stream",
          "name": "stdout",
          "text": [
            "random Function\n"
          ]
        }
      ]
    },
    {
      "cell_type": "markdown",
      "source": [
        "We don't really should know what's the content behind the function, we should just know what will be the output on the input."
      ],
      "metadata": {
        "id": "9jG57Ijj-V_O"
      }
    },
    {
      "cell_type": "markdown",
      "source": [
        "Default value as argument in a Function"
      ],
      "metadata": {
        "id": "D7onf5Ka_cG6"
      }
    },
    {
      "cell_type": "code",
      "source": [
        "def hello_func(greeting,name = 'You'):\n",
        "  return f\"{greeting} {name}\"\n",
        "\n",
        "greeting = \"Good Evening\"\n",
        "person = \"Harshit\"\n",
        "\n",
        "print(hello_func(greeting,person))\n",
        "print(hello_func(greeting))"
      ],
      "metadata": {
        "colab": {
          "base_uri": "https://localhost:8080/"
        },
        "id": "niSJh9qW_byD",
        "outputId": "40259f65-d419-455b-c69a-fbdd4a2667aa"
      },
      "execution_count": null,
      "outputs": [
        {
          "output_type": "stream",
          "name": "stdout",
          "text": [
            "Good Evening Harshit\n",
            "Good Evening You\n"
          ]
        }
      ]
    },
    {
      "cell_type": "code",
      "source": [
        "# All the star Argument is doing is allowing us to accept an arbitrary no of\n",
        "# positional or keyword arguments\n",
        "\n",
        "def student_info(*args , **kwargs):\n",
        "  print(args)\n",
        "  print(kwargs)\n",
        "\n",
        "student_info('Math' , 'Art' , name = 'John' , age = 22)\n",
        "\n",
        "# args is tuple with all of our positional arguments\n",
        "# kwargs are a dictionary with all of our keyword and value pairs"
      ],
      "metadata": {
        "colab": {
          "base_uri": "https://localhost:8080/"
        },
        "id": "lNeKES88AWVi",
        "outputId": "730217e7-7fee-41fa-f116-f4db32564d54"
      },
      "execution_count": null,
      "outputs": [
        {
          "output_type": "stream",
          "name": "stdout",
          "text": [
            "('Math', 'Art')\n",
            "{'name': 'John', 'age': 22}\n"
          ]
        }
      ]
    },
    {
      "cell_type": "code",
      "source": [
        "def student_info(*args , **kwargs):\n",
        "  print(args)\n",
        "  print(kwargs)\n",
        "\n",
        "courses = [\"Math\",\"Art\"]\n",
        "info = {'name' : 'John' , 'age' : 22}\n",
        "student_info(courses,info)\n",
        "student_info(*courses,**info)"
      ],
      "metadata": {
        "colab": {
          "base_uri": "https://localhost:8080/"
        },
        "id": "VM4EJNAyUwJT",
        "outputId": "f0c05b7d-a5d0-43b1-83f6-2ed7da80b014"
      },
      "execution_count": 5,
      "outputs": [
        {
          "output_type": "stream",
          "name": "stdout",
          "text": [
            "(['Math', 'Art'], {'name': 'John', 'age': 22})\n",
            "{}\n",
            "('Math', 'Art')\n",
            "{'name': 'John', 'age': 22}\n"
          ]
        }
      ]
    },
    {
      "cell_type": "code",
      "source": [
        "# Number of days per moth. First value placeholder for indexing purposes\n",
        "month_days = [0,31,28,31,30,31,31,30,31,30,31]\n",
        "\n",
        "def is_leap(year):\n",
        "  \"\"\"return true for leap years and false for non leap years\"\"\"\n",
        "  return year%4 == 0 and (year%100 !=0 or year % 400 ==0)\n",
        "\n",
        "def days_in_month(year,month):\n",
        "  \"\"\"Returns no of days in that month in that year\"\"\"\n",
        "\n",
        "  if not 1<=month<=12:\n",
        "    return \"Invalid Month\"\n",
        "  if month ==2 and is_leap(year):\n",
        "    return 29\n",
        "\n",
        "  return month_days[month]\n",
        "\n"
      ],
      "metadata": {
        "id": "LliwacunVlIy"
      },
      "execution_count": null,
      "outputs": []
    },
    {
      "cell_type": "markdown",
      "source": [
        "#NUMPY\n",
        "Numpy is a genral-purpose array-processing package. It privides a high performance multidimensional array object, and tools for working with these arrays. It is fundamental package for scientific computing with Python"
      ],
      "metadata": {
        "id": "RJhdSj_D_r37"
      }
    },
    {
      "cell_type": "code",
      "source": [
        "import numpy as np\n",
        "\n",
        "my_lst = [1,2,3,4,5]\n",
        "arr = np.array(my_lst)\n",
        "type(arr)\n",
        "print(arr)"
      ],
      "metadata": {
        "colab": {
          "base_uri": "https://localhost:8080/"
        },
        "id": "KtYB8Y0MABsd",
        "outputId": "f9064852-6b9b-43b2-ef92-0534f74d5965"
      },
      "execution_count": null,
      "outputs": [
        {
          "output_type": "execute_result",
          "data": {
            "text/plain": [
              "numpy.ndarray"
            ]
          },
          "metadata": {},
          "execution_count": 3
        }
      ]
    },
    {
      "cell_type": "code",
      "source": [
        "arr.shape"
      ],
      "metadata": {
        "colab": {
          "base_uri": "https://localhost:8080/"
        },
        "id": "Lq7JOihQCZhI",
        "outputId": "f845dded-8ba1-43ea-b36a-8fa216ca5a13"
      },
      "execution_count": null,
      "outputs": [
        {
          "output_type": "execute_result",
          "data": {
            "text/plain": [
              "(5,)"
            ]
          },
          "metadata": {},
          "execution_count": 5
        }
      ]
    },
    {
      "cell_type": "code",
      "source": [
        "#multinested array\n",
        "list1 = [1,2,4,6,7]\n",
        "list2 = [3,2,4,5,1]\n",
        "list3 = [8,4,3,2,9]\n",
        "\n",
        "arr = np.array([list1,list2,list3])\n",
        "\n",
        "arr"
      ],
      "metadata": {
        "colab": {
          "base_uri": "https://localhost:8080/"
        },
        "id": "YDLCOIJiCkkt",
        "outputId": "af47fb4f-88fe-4353-c057-60fdcdf340d0"
      },
      "execution_count": null,
      "outputs": [
        {
          "output_type": "execute_result",
          "data": {
            "text/plain": [
              "array([[1, 2, 4, 6, 7],\n",
              "       [3, 2, 4, 5, 1],\n",
              "       [8, 4, 3, 2, 9]])"
            ]
          },
          "metadata": {},
          "execution_count": 6
        }
      ]
    },
    {
      "cell_type": "code",
      "source": [
        "arr.shape"
      ],
      "metadata": {
        "colab": {
          "base_uri": "https://localhost:8080/"
        },
        "id": "sv_1V-tTDRx9",
        "outputId": "162c36ca-edbb-4ea1-fc0a-68b5905fb224"
      },
      "execution_count": null,
      "outputs": [
        {
          "output_type": "execute_result",
          "data": {
            "text/plain": [
              "(3, 5)"
            ]
          },
          "metadata": {},
          "execution_count": 7
        }
      ]
    },
    {
      "cell_type": "markdown",
      "source": [],
      "metadata": {
        "id": "Gl1MSUP_DtNe"
      }
    },
    {
      "cell_type": "code",
      "source": [
        "arr = arr.reshape(5,3)\n",
        "print(arr)\n",
        "arr.shape"
      ],
      "metadata": {
        "colab": {
          "base_uri": "https://localhost:8080/"
        },
        "id": "p91Dg6vuDV-K",
        "outputId": "47cf6478-be1b-4272-cddf-ceb3d779903b"
      },
      "execution_count": null,
      "outputs": [
        {
          "output_type": "stream",
          "name": "stdout",
          "text": [
            "[[1 2 4]\n",
            " [6 7 3]\n",
            " [2 4 5]\n",
            " [1 8 4]\n",
            " [3 2 9]]\n"
          ]
        },
        {
          "output_type": "execute_result",
          "data": {
            "text/plain": [
              "(5, 3)"
            ]
          },
          "metadata": {},
          "execution_count": 11
        }
      ]
    }
  ]
}